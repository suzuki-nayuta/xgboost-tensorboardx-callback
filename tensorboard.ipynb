{
 "cells": [
  {
   "cell_type": "code",
   "execution_count": 1,
   "id": "77f5c686-076a-4ec7-b5fd-28cd728533fe",
   "metadata": {},
   "outputs": [
    {
     "name": "stdout",
     "output_type": "stream",
     "text": [
      "Collecting xgboost\n",
      "  Downloading xgboost-1.6.1-py3-none-manylinux2014_x86_64.whl (192.9 MB)\n",
      "     |████████████████████████████████| 192.9 MB 129 kB/s             \n",
      "\u001b[?25hRequirement already satisfied: scipy in /opt/conda/lib/python3.9/site-packages (from xgboost) (1.7.1)\n",
      "Requirement already satisfied: numpy in /opt/conda/lib/python3.9/site-packages (from xgboost) (1.20.3)\n",
      "Installing collected packages: xgboost\n",
      "Successfully installed xgboost-1.6.1\n",
      "Collecting tensorflow\n",
      "  Downloading tensorflow-2.8.0-cp39-cp39-manylinux2010_x86_64.whl (497.6 MB)\n",
      "     |████████████████████████████████| 497.6 MB 19 kB/s              \n",
      "\u001b[?25hRequirement already satisfied: typing-extensions>=3.6.6 in /opt/conda/lib/python3.9/site-packages (from tensorflow) (3.10.0.2)\n",
      "Collecting tf-estimator-nightly==2.8.0.dev2021122109\n",
      "  Downloading tf_estimator_nightly-2.8.0.dev2021122109-py2.py3-none-any.whl (462 kB)\n",
      "     |████████████████████████████████| 462 kB 9.6 MB/s            \n",
      "\u001b[?25hCollecting wrapt>=1.11.0\n",
      "  Downloading wrapt-1.14.1-cp39-cp39-manylinux_2_5_x86_64.manylinux1_x86_64.manylinux_2_17_x86_64.manylinux2014_x86_64.whl (77 kB)\n",
      "     |████████████████████████████████| 77 kB 4.5 MB/s             \n",
      "\u001b[?25hCollecting libclang>=9.0.1\n",
      "  Downloading libclang-14.0.1-py2.py3-none-manylinux1_x86_64.whl (14.5 MB)\n",
      "     |████████████████████████████████| 14.5 MB 8.6 MB/s            \n",
      "\u001b[?25hCollecting keras<2.9,>=2.8.0rc0\n",
      "  Downloading keras-2.8.0-py2.py3-none-any.whl (1.4 MB)\n",
      "     |████████████████████████████████| 1.4 MB 15.8 MB/s            \n",
      "\u001b[?25hCollecting opt-einsum>=2.3.2\n",
      "  Downloading opt_einsum-3.3.0-py3-none-any.whl (65 kB)\n",
      "     |████████████████████████████████| 65 kB 2.6 MB/s             \n",
      "\u001b[?25hRequirement already satisfied: protobuf>=3.9.2 in /opt/conda/lib/python3.9/site-packages (from tensorflow) (3.18.1)\n",
      "Collecting google-pasta>=0.1.1\n",
      "  Downloading google_pasta-0.2.0-py3-none-any.whl (57 kB)\n",
      "     |████████████████████████████████| 57 kB 4.3 MB/s             \n",
      "\u001b[?25hRequirement already satisfied: numpy>=1.20 in /opt/conda/lib/python3.9/site-packages (from tensorflow) (1.20.3)\n",
      "Collecting tensorflow-io-gcs-filesystem>=0.23.1\n",
      "  Downloading tensorflow_io_gcs_filesystem-0.25.0-cp39-cp39-manylinux_2_12_x86_64.manylinux2010_x86_64.whl (2.1 MB)\n",
      "     |████████████████████████████████| 2.1 MB 12.1 MB/s            \n",
      "\u001b[?25hCollecting flatbuffers>=1.12\n",
      "  Downloading flatbuffers-2.0-py2.py3-none-any.whl (26 kB)\n",
      "Collecting astunparse>=1.6.0\n",
      "  Downloading astunparse-1.6.3-py2.py3-none-any.whl (12 kB)\n",
      "Collecting tensorboard<2.9,>=2.8\n",
      "  Downloading tensorboard-2.8.0-py3-none-any.whl (5.8 MB)\n",
      "     |████████████████████████████████| 5.8 MB 12.8 MB/s            \n",
      "\u001b[?25hRequirement already satisfied: six>=1.12.0 in /opt/conda/lib/python3.9/site-packages (from tensorflow) (1.16.0)\n",
      "Collecting gast>=0.2.1\n",
      "  Downloading gast-0.5.3-py3-none-any.whl (19 kB)\n",
      "Collecting absl-py>=0.4.0\n",
      "  Downloading absl_py-1.0.0-py3-none-any.whl (126 kB)\n",
      "     |████████████████████████████████| 126 kB 15.1 MB/s            \n",
      "\u001b[?25hCollecting termcolor>=1.1.0\n",
      "  Downloading termcolor-1.1.0.tar.gz (3.9 kB)\n",
      "  Preparing metadata (setup.py) ... \u001b[?25ldone\n",
      "\u001b[?25hCollecting keras-preprocessing>=1.1.1\n",
      "  Downloading Keras_Preprocessing-1.1.2-py2.py3-none-any.whl (42 kB)\n",
      "     |████████████████████████████████| 42 kB 1.7 MB/s             \n",
      "\u001b[?25hRequirement already satisfied: h5py>=2.9.0 in /opt/conda/lib/python3.9/site-packages (from tensorflow) (3.4.0)\n",
      "Collecting grpcio<2.0,>=1.24.3\n",
      "  Downloading grpcio-1.46.1-cp39-cp39-manylinux_2_17_x86_64.manylinux2014_x86_64.whl (4.4 MB)\n",
      "     |████████████████████████████████| 4.4 MB 7.4 MB/s            \n",
      "\u001b[?25hRequirement already satisfied: setuptools in /opt/conda/lib/python3.9/site-packages (from tensorflow) (58.2.0)\n",
      "Requirement already satisfied: wheel<1.0,>=0.23.0 in /opt/conda/lib/python3.9/site-packages (from astunparse>=1.6.0->tensorflow) (0.37.0)\n",
      "Collecting tensorboard-data-server<0.7.0,>=0.6.0\n",
      "  Downloading tensorboard_data_server-0.6.1-py3-none-manylinux2010_x86_64.whl (4.9 MB)\n",
      "     |████████████████████████████████| 4.9 MB 5.8 MB/s            \n",
      "\u001b[?25hCollecting google-auth-oauthlib<0.5,>=0.4.1\n",
      "  Downloading google_auth_oauthlib-0.4.6-py2.py3-none-any.whl (18 kB)\n",
      "Collecting google-auth<3,>=1.6.3\n",
      "  Downloading google_auth-2.6.6-py2.py3-none-any.whl (156 kB)\n",
      "     |████████████████████████████████| 156 kB 18.9 MB/s            \n",
      "\u001b[?25hCollecting tensorboard-plugin-wit>=1.6.0\n",
      "  Downloading tensorboard_plugin_wit-1.8.1-py3-none-any.whl (781 kB)\n",
      "     |████████████████████████████████| 781 kB 14.2 MB/s            \n",
      "\u001b[?25hRequirement already satisfied: requests<3,>=2.21.0 in /opt/conda/lib/python3.9/site-packages (from tensorboard<2.9,>=2.8->tensorflow) (2.26.0)\n",
      "Collecting markdown>=2.6.8\n",
      "  Downloading Markdown-3.3.7-py3-none-any.whl (97 kB)\n",
      "     |████████████████████████████████| 97 kB 7.1 MB/s             \n",
      "\u001b[?25hCollecting werkzeug>=0.11.15\n",
      "  Downloading Werkzeug-2.1.2-py3-none-any.whl (224 kB)\n",
      "     |████████████████████████████████| 224 kB 17.6 MB/s            \n",
      "\u001b[?25hCollecting cachetools<6.0,>=2.0.0\n",
      "  Downloading cachetools-5.0.0-py3-none-any.whl (9.1 kB)\n",
      "Collecting rsa<5,>=3.1.4\n",
      "  Downloading rsa-4.8-py3-none-any.whl (39 kB)\n",
      "Collecting pyasn1-modules>=0.2.1\n",
      "  Downloading pyasn1_modules-0.2.8-py2.py3-none-any.whl (155 kB)\n",
      "     |████████████████████████████████| 155 kB 10.6 MB/s            \n",
      "\u001b[?25hCollecting requests-oauthlib>=0.7.0\n",
      "  Downloading requests_oauthlib-1.3.1-py2.py3-none-any.whl (23 kB)\n",
      "Requirement already satisfied: importlib-metadata>=4.4 in /opt/conda/lib/python3.9/site-packages (from markdown>=2.6.8->tensorboard<2.9,>=2.8->tensorflow) (4.8.1)\n",
      "Requirement already satisfied: idna<4,>=2.5 in /opt/conda/lib/python3.9/site-packages (from requests<3,>=2.21.0->tensorboard<2.9,>=2.8->tensorflow) (3.1)\n",
      "Requirement already satisfied: urllib3<1.27,>=1.21.1 in /opt/conda/lib/python3.9/site-packages (from requests<3,>=2.21.0->tensorboard<2.9,>=2.8->tensorflow) (1.26.7)\n",
      "Requirement already satisfied: charset-normalizer~=2.0.0 in /opt/conda/lib/python3.9/site-packages (from requests<3,>=2.21.0->tensorboard<2.9,>=2.8->tensorflow) (2.0.0)\n",
      "Requirement already satisfied: certifi>=2017.4.17 in /opt/conda/lib/python3.9/site-packages (from requests<3,>=2.21.0->tensorboard<2.9,>=2.8->tensorflow) (2021.10.8)\n",
      "Requirement already satisfied: zipp>=0.5 in /opt/conda/lib/python3.9/site-packages (from importlib-metadata>=4.4->markdown>=2.6.8->tensorboard<2.9,>=2.8->tensorflow) (3.6.0)\n",
      "Collecting pyasn1<0.5.0,>=0.4.6\n",
      "  Downloading pyasn1-0.4.8-py2.py3-none-any.whl (77 kB)\n",
      "     |████████████████████████████████| 77 kB 5.9 MB/s             \n",
      "\u001b[?25hRequirement already satisfied: oauthlib>=3.0.0 in /opt/conda/lib/python3.9/site-packages (from requests-oauthlib>=0.7.0->google-auth-oauthlib<0.5,>=0.4.1->tensorboard<2.9,>=2.8->tensorflow) (3.1.1)\n",
      "Building wheels for collected packages: termcolor\n",
      "  Building wheel for termcolor (setup.py) ... \u001b[?25ldone\n",
      "\u001b[?25h  Created wheel for termcolor: filename=termcolor-1.1.0-py3-none-any.whl size=4847 sha256=ceb54acffd3f377e51882239d633c07b0c149678691cfdf59bdbd19d2f4142cf\n",
      "  Stored in directory: /home/jovyan/.cache/pip/wheels/b6/0d/90/0d1bbd99855f99cb2f6c2e5ff96f8023fad8ec367695f7d72d\n",
      "Successfully built termcolor\n",
      "Installing collected packages: pyasn1, rsa, pyasn1-modules, cachetools, requests-oauthlib, google-auth, werkzeug, tensorboard-plugin-wit, tensorboard-data-server, markdown, grpcio, google-auth-oauthlib, absl-py, wrapt, tf-estimator-nightly, termcolor, tensorflow-io-gcs-filesystem, tensorboard, opt-einsum, libclang, keras-preprocessing, keras, google-pasta, gast, flatbuffers, astunparse, tensorflow\n",
      "Successfully installed absl-py-1.0.0 astunparse-1.6.3 cachetools-5.0.0 flatbuffers-2.0 gast-0.5.3 google-auth-2.6.6 google-auth-oauthlib-0.4.6 google-pasta-0.2.0 grpcio-1.46.1 keras-2.8.0 keras-preprocessing-1.1.2 libclang-14.0.1 markdown-3.3.7 opt-einsum-3.3.0 pyasn1-0.4.8 pyasn1-modules-0.2.8 requests-oauthlib-1.3.1 rsa-4.8 tensorboard-2.8.0 tensorboard-data-server-0.6.1 tensorboard-plugin-wit-1.8.1 tensorflow-2.8.0 tensorflow-io-gcs-filesystem-0.25.0 termcolor-1.1.0 tf-estimator-nightly-2.8.0.dev2021122109 werkzeug-2.1.2 wrapt-1.14.1\n",
      "Collecting tensorboardX\n",
      "  Downloading tensorboardX-2.5-py2.py3-none-any.whl (125 kB)\n",
      "     |████████████████████████████████| 125 kB 3.5 MB/s            \n",
      "\u001b[?25hRequirement already satisfied: six in /opt/conda/lib/python3.9/site-packages (from tensorboardX) (1.16.0)\n",
      "Requirement already satisfied: numpy in /opt/conda/lib/python3.9/site-packages (from tensorboardX) (1.20.3)\n",
      "Requirement already satisfied: protobuf>=3.8.0 in /opt/conda/lib/python3.9/site-packages (from tensorboardX) (3.18.1)\n",
      "Installing collected packages: tensorboardX\n",
      "Successfully installed tensorboardX-2.5\n"
     ]
    }
   ],
   "source": [
    "!pip install xgboost\n",
    "!pip install tensorflow\n",
    "!pip install tensorboardX"
   ]
  },
  {
   "cell_type": "code",
   "execution_count": 2,
   "id": "e89434d5-04b4-4e3e-a795-13b896583281",
   "metadata": {},
   "outputs": [],
   "source": [
    "# Load the TensorBoard notebook extension\n",
    "%load_ext tensorboard"
   ]
  },
  {
   "cell_type": "code",
   "execution_count": 3,
   "id": "3472b14f-612a-4b4b-ad27-5cbceaa6bbda",
   "metadata": {},
   "outputs": [],
   "source": [
    "import xgboost as xgb\n",
    "from tensorboardX import SummaryWriter\n",
    "from sklearn.datasets import load_diabetes\n",
    "from sklearn.model_selection import train_test_split"
   ]
  },
  {
   "cell_type": "code",
   "execution_count": 4,
   "id": "b67e791c",
   "metadata": {},
   "outputs": [
    {
     "name": "stderr",
     "output_type": "stream",
     "text": [
      "2022-05-14 06:20:03.354510: W tensorflow/stream_executor/platform/default/dso_loader.cc:64] Could not load dynamic library 'libcudart.so.11.0'; dlerror: libcudart.so.11.0: cannot open shared object file: No such file or directory\n",
      "2022-05-14 06:20:03.354590: I tensorflow/stream_executor/cuda/cudart_stub.cc:29] Ignore above cudart dlerror if you do not have a GPU set up on your machine.\n"
     ]
    },
    {
     "data": {
      "text/plain": [
       "'2.8.0'"
      ]
     },
     "execution_count": 4,
     "metadata": {},
     "output_type": "execute_result"
    }
   ],
   "source": [
    "import tensorflow as tf\n",
    "tf.__version__"
   ]
  },
  {
   "cell_type": "code",
   "execution_count": 5,
   "id": "ca46f018",
   "metadata": {},
   "outputs": [
    {
     "data": {
      "text/plain": [
       "'2.5'"
      ]
     },
     "execution_count": 5,
     "metadata": {},
     "output_type": "execute_result"
    }
   ],
   "source": [
    "import tensorboardX\n",
    "tensorboardX.__version__"
   ]
  },
  {
   "cell_type": "code",
   "execution_count": 6,
   "id": "59b19eb1-3f61-4410-a0db-85b49e702ad3",
   "metadata": {},
   "outputs": [
    {
     "data": {
      "text/plain": [
       "'1.6.1'"
      ]
     },
     "execution_count": 6,
     "metadata": {},
     "output_type": "execute_result"
    }
   ],
   "source": [
    "xgb.__version__"
   ]
  },
  {
   "cell_type": "code",
   "execution_count": 7,
   "id": "2dfdd613-c8df-46dd-9ab5-e22edef9cc50",
   "metadata": {},
   "outputs": [],
   "source": [
    "class TensorBoardCallback(xgb.callback.TrainingCallback):\n",
    "    '''\n",
    "    Callback for add loss to summary.\n",
    "    '''\n",
    "    def __init__(self):\n",
    "        self.writer = SummaryWriter()\n",
    "\n",
    "    def _get_key(self, data, metric):\n",
    "        return f'{data}-{metric}'\n",
    "\n",
    "    def after_iteration(self, model, epoch, evals_log):\n",
    "        '''Add scalar loss data to summary.'''\n",
    "        self.writer.add_scalar(\"train_loss\", evals_log[\"train\"][\"rmse\"][-1], epoch)\n",
    "        self.writer.add_scalar(\"test_loss\", evals_log[\"test\"][\"rmse\"][-1], epoch)\n",
    "        "
   ]
  },
  {
   "cell_type": "code",
   "execution_count": 8,
   "id": "1e5db491-4709-4164-9349-e50ca99e9fd7",
   "metadata": {},
   "outputs": [
    {
     "name": "stdout",
     "output_type": "stream",
     "text": [
      "[0]\ttrain-rmse:157.20399\ttest-rmse:147.09992\n",
      "[1]\ttrain-rmse:143.51689\ttest-rmse:135.25065\n",
      "[2]\ttrain-rmse:131.10072\ttest-rmse:125.39706\n",
      "[3]\ttrain-rmse:119.98772\ttest-rmse:117.19328\n",
      "[4]\ttrain-rmse:109.98798\ttest-rmse:109.24967\n",
      "[5]\ttrain-rmse:100.97486\ttest-rmse:102.32146\n",
      "[6]\ttrain-rmse:92.80097\ttest-rmse:96.70532\n",
      "[7]\ttrain-rmse:85.42460\ttest-rmse:91.46110\n",
      "[8]\ttrain-rmse:78.76005\ttest-rmse:87.08872\n",
      "[9]\ttrain-rmse:72.79442\ttest-rmse:83.26352\n",
      "[10]\ttrain-rmse:67.36035\ttest-rmse:80.13694\n",
      "[11]\ttrain-rmse:62.42762\ttest-rmse:77.12686\n",
      "[12]\ttrain-rmse:58.08921\ttest-rmse:74.74316\n",
      "[13]\ttrain-rmse:54.13500\ttest-rmse:72.52482\n",
      "[14]\ttrain-rmse:50.58406\ttest-rmse:70.60133\n",
      "[15]\ttrain-rmse:47.24977\ttest-rmse:69.23445\n",
      "[16]\ttrain-rmse:44.21664\ttest-rmse:68.09474\n",
      "[17]\ttrain-rmse:41.41679\ttest-rmse:67.10708\n",
      "[18]\ttrain-rmse:38.87938\ttest-rmse:66.16503\n",
      "[19]\ttrain-rmse:36.65492\ttest-rmse:65.49000\n",
      "[20]\ttrain-rmse:34.67751\ttest-rmse:64.94058\n",
      "[21]\ttrain-rmse:32.88024\ttest-rmse:64.53994\n",
      "[22]\ttrain-rmse:31.24105\ttest-rmse:64.14400\n",
      "[23]\ttrain-rmse:29.72423\ttest-rmse:63.70044\n",
      "[24]\ttrain-rmse:28.16803\ttest-rmse:63.47947\n",
      "[25]\ttrain-rmse:26.74975\ttest-rmse:63.09541\n",
      "[26]\ttrain-rmse:25.73584\ttest-rmse:62.97775\n",
      "[27]\ttrain-rmse:24.72600\ttest-rmse:62.92757\n",
      "[28]\ttrain-rmse:23.83326\ttest-rmse:62.59673\n",
      "[29]\ttrain-rmse:23.06853\ttest-rmse:62.51317\n",
      "[30]\ttrain-rmse:22.15378\ttest-rmse:62.63369\n",
      "[31]\ttrain-rmse:21.34521\ttest-rmse:62.54907\n",
      "[32]\ttrain-rmse:20.55582\ttest-rmse:62.44233\n",
      "[33]\ttrain-rmse:19.97821\ttest-rmse:62.39556\n",
      "[34]\ttrain-rmse:19.39797\ttest-rmse:62.27256\n",
      "[35]\ttrain-rmse:18.82052\ttest-rmse:62.47679\n",
      "[36]\ttrain-rmse:18.26850\ttest-rmse:62.52597\n",
      "[37]\ttrain-rmse:17.87402\ttest-rmse:62.50327\n",
      "[38]\ttrain-rmse:17.54068\ttest-rmse:62.39947\n",
      "[39]\ttrain-rmse:17.03845\ttest-rmse:62.49425\n",
      "[40]\ttrain-rmse:16.77807\ttest-rmse:62.47098\n",
      "[41]\ttrain-rmse:16.37701\ttest-rmse:62.39870\n",
      "[42]\ttrain-rmse:16.15062\ttest-rmse:62.38617\n",
      "[43]\ttrain-rmse:15.89105\ttest-rmse:62.45583\n",
      "[44]\ttrain-rmse:15.71178\ttest-rmse:62.37646\n",
      "[45]\ttrain-rmse:15.38921\ttest-rmse:62.43698\n",
      "[46]\ttrain-rmse:15.11581\ttest-rmse:62.57611\n",
      "[47]\ttrain-rmse:14.98509\ttest-rmse:62.52558\n",
      "[48]\ttrain-rmse:14.76285\ttest-rmse:62.59316\n",
      "[49]\ttrain-rmse:14.49023\ttest-rmse:62.61348\n",
      "[50]\ttrain-rmse:14.33824\ttest-rmse:62.60267\n",
      "[51]\ttrain-rmse:13.99811\ttest-rmse:62.52085\n",
      "[52]\ttrain-rmse:13.84533\ttest-rmse:62.56765\n",
      "[53]\ttrain-rmse:13.70439\ttest-rmse:62.50350\n",
      "[54]\ttrain-rmse:13.60440\ttest-rmse:62.49623\n",
      "[55]\ttrain-rmse:13.47210\ttest-rmse:62.46403\n",
      "[56]\ttrain-rmse:13.16086\ttest-rmse:62.49025\n",
      "[57]\ttrain-rmse:13.01978\ttest-rmse:62.50327\n",
      "[58]\ttrain-rmse:12.74880\ttest-rmse:62.54902\n",
      "[59]\ttrain-rmse:12.65049\ttest-rmse:62.49491\n",
      "[60]\ttrain-rmse:12.58759\ttest-rmse:62.49467\n",
      "[61]\ttrain-rmse:12.44759\ttest-rmse:62.50055\n",
      "[62]\ttrain-rmse:12.28284\ttest-rmse:62.47111\n",
      "[63]\ttrain-rmse:11.98693\ttest-rmse:62.41242\n",
      "[64]\ttrain-rmse:11.94405\ttest-rmse:62.40993\n",
      "[65]\ttrain-rmse:11.68853\ttest-rmse:62.35537\n",
      "[66]\ttrain-rmse:11.61108\ttest-rmse:62.35831\n",
      "[67]\ttrain-rmse:11.56709\ttest-rmse:62.36110\n",
      "[68]\ttrain-rmse:11.53651\ttest-rmse:62.35755\n",
      "[69]\ttrain-rmse:11.48054\ttest-rmse:62.38540\n",
      "[70]\ttrain-rmse:11.39853\ttest-rmse:62.40674\n",
      "[71]\ttrain-rmse:11.23143\ttest-rmse:62.44769\n",
      "[72]\ttrain-rmse:10.94086\ttest-rmse:62.55661\n",
      "[73]\ttrain-rmse:10.82440\ttest-rmse:62.60468\n",
      "[74]\ttrain-rmse:10.70984\ttest-rmse:62.57693\n",
      "[75]\ttrain-rmse:10.67965\ttest-rmse:62.57696\n",
      "[76]\ttrain-rmse:10.59654\ttest-rmse:62.59312\n",
      "[77]\ttrain-rmse:10.45598\ttest-rmse:62.60090\n",
      "[78]\ttrain-rmse:10.38501\ttest-rmse:62.58521\n",
      "[79]\ttrain-rmse:10.15421\ttest-rmse:62.54269\n",
      "[80]\ttrain-rmse:9.98055\ttest-rmse:62.53838\n",
      "[81]\ttrain-rmse:9.83078\ttest-rmse:62.56720\n",
      "[82]\ttrain-rmse:9.63082\ttest-rmse:62.52879\n",
      "[83]\ttrain-rmse:9.57612\ttest-rmse:62.53727\n",
      "[84]\ttrain-rmse:9.49931\ttest-rmse:62.50563\n",
      "[85]\ttrain-rmse:9.44893\ttest-rmse:62.52954\n",
      "[86]\ttrain-rmse:9.20635\ttest-rmse:62.56196\n",
      "[87]\ttrain-rmse:9.05982\ttest-rmse:62.55531\n",
      "[88]\ttrain-rmse:8.88025\ttest-rmse:62.55206\n",
      "[89]\ttrain-rmse:8.81022\ttest-rmse:62.52753\n",
      "[90]\ttrain-rmse:8.72942\ttest-rmse:62.57473\n",
      "[91]\ttrain-rmse:8.53557\ttest-rmse:62.51312\n",
      "[92]\ttrain-rmse:8.42317\ttest-rmse:62.52288\n",
      "[93]\ttrain-rmse:8.33062\ttest-rmse:62.56782\n",
      "[94]\ttrain-rmse:8.10172\ttest-rmse:62.55446\n",
      "[95]\ttrain-rmse:8.04529\ttest-rmse:62.52969\n",
      "[96]\ttrain-rmse:7.89360\ttest-rmse:62.54048\n",
      "[97]\ttrain-rmse:7.75325\ttest-rmse:62.49491\n",
      "[98]\ttrain-rmse:7.70319\ttest-rmse:62.49298\n",
      "[99]\ttrain-rmse:7.53998\ttest-rmse:62.48469\n"
     ]
    }
   ],
   "source": [
    "X, y = load_diabetes(return_X_y=True)\n",
    "X_train, X_test, y_train, y_test = train_test_split(X, y, test_size=0.2, random_state=100)\n",
    "\n",
    "dtrain = xgb.DMatrix(X_train, label=y_train)\n",
    "dtest = xgb.DMatrix(X_test, label=y_test)\n",
    "\n",
    "params = {'objective':'reg:squarederror', 'eval_metric': 'rmse', 'learning_rate': 0.1 }\n",
    "num_boost_round=100\n",
    "\n",
    "bst = xgb.train(params, dtrain, num_boost_round, evals=[(dtrain, 'train'), (dtest, 'test')],\n",
    "        callbacks=[TensorBoardCallback()])"
   ]
  },
  {
   "cell_type": "code",
   "execution_count": 9,
   "id": "ccd3935d-eaeb-4db0-9608-66af33c4e735",
   "metadata": {},
   "outputs": [
    {
     "data": {
      "text/html": [
       "\n",
       "      <iframe id=\"tensorboard-frame-3c29068798b8eef3\" width=\"100%\" height=\"800\" frameborder=\"0\">\n",
       "      </iframe>\n",
       "      <script>\n",
       "        (function() {\n",
       "          const frame = document.getElementById(\"tensorboard-frame-3c29068798b8eef3\");\n",
       "          const url = new URL(\"/\", window.location);\n",
       "          const port = 6006;\n",
       "          if (port) {\n",
       "            url.port = port;\n",
       "          }\n",
       "          frame.src = url;\n",
       "        })();\n",
       "      </script>\n",
       "    "
      ],
      "text/plain": [
       "<IPython.core.display.HTML object>"
      ]
     },
     "metadata": {},
     "output_type": "display_data"
    }
   ],
   "source": [
    "%tensorboard --logdir ./runs --load_fast=false --bind_all --port 6006"
   ]
  },
  {
   "cell_type": "code",
   "execution_count": null,
   "id": "c4bf6765-f9d0-444b-bbad-f8629ffe45c9",
   "metadata": {},
   "outputs": [],
   "source": []
  }
 ],
 "metadata": {
  "kernelspec": {
   "display_name": "Python 3 (ipykernel)",
   "language": "python",
   "name": "python3"
  },
  "language_info": {
   "codemirror_mode": {
    "name": "ipython",
    "version": 3
   },
   "file_extension": ".py",
   "mimetype": "text/x-python",
   "name": "python",
   "nbconvert_exporter": "python",
   "pygments_lexer": "ipython3",
   "version": "3.9.7"
  }
 },
 "nbformat": 4,
 "nbformat_minor": 5
}
